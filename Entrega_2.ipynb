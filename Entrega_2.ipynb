{
  "nbformat": 4,
  "nbformat_minor": 0,
  "metadata": {
    "colab": {
      "provenance": []
    },
    "kernelspec": {
      "name": "python3",
      "display_name": "Python 3"
    },
    "language_info": {
      "name": "python"
    }
  },
  "cells": [
    {
      "cell_type": "code",
      "source": [
        "!pip install selenium\n",
        "!pip install webdriver_manager"
      ],
      "metadata": {
        "id": "mO4jJYiJrK-x"
      },
      "execution_count": null,
      "outputs": []
    },
    {
      "cell_type": "code",
      "execution_count": null,
      "metadata": {
        "id": "F6dltLu1oEom"
      },
      "outputs": [],
      "source": [
        "!sudo apt update\n",
        "!wget https://dl.google.com/linux/direct/google-chrome-stable_current_amd64.deb\n",
        "!dpkg -i google-chrome-stable_current_amd64.deb\n",
        "!apt-get -f install\n",
        "!google-chrome-stable --version"
      ]
    },
    {
      "cell_type": "code",
      "source": [
        "from selenium import webdriver\n",
        "from selenium.webdriver.chrome.options import Options\n",
        "from webdriver_manager.chrome import ChromeDriverManager\n",
        "from selenium.webdriver.chrome.service import Service\n",
        "from selenium.webdriver.common.by import By"
      ],
      "metadata": {
        "id": "QE-8YsiCtDnh"
      },
      "execution_count": 111,
      "outputs": []
    },
    {
      "cell_type": "code",
      "source": [
        "!pip show webdriver_manager"
      ],
      "metadata": {
        "colab": {
          "base_uri": "https://localhost:8080/"
        },
        "id": "QcXRMk5ytHsz",
        "outputId": "cc563c72-d1ea-45fa-8226-f3ba9cd239d0"
      },
      "execution_count": 112,
      "outputs": [
        {
          "output_type": "stream",
          "name": "stdout",
          "text": [
            "Name: webdriver-manager\n",
            "Version: 4.0.1\n",
            "Summary: Library provides the way to automatically manage drivers for different browsers\n",
            "Home-page: https://github.com/SergeyPirogov/webdriver_manager\n",
            "Author: Sergey Pirogov\n",
            "Author-email: automationremarks@gmail.com\n",
            "License: \n",
            "Location: /usr/local/lib/python3.10/dist-packages\n",
            "Requires: packaging, python-dotenv, requests\n",
            "Required-by: \n"
          ]
        }
      ]
    },
    {
      "cell_type": "code",
      "source": [
        "import pandas as pd\n",
        "import numpy as np"
      ],
      "metadata": {
        "id": "39IIdBuuoZ_O"
      },
      "execution_count": 113,
      "outputs": []
    },
    {
      "cell_type": "code",
      "source": [
        "# Se estiver no Colab, comente o código acima e utilize como alternativa\n",
        "chrome_options = webdriver.ChromeOptions()\n",
        "chrome_options.add_argument('--headless') # ensure GUI is off\n",
        "chrome_options.add_argument('--no-sandbox')\n",
        "chrome_options.add_argument('--disable-dev-shm-usage')\n",
        "driver = webdriver.Chrome(service=Service(ChromeDriverManager().install()), options=chrome_options)\n",
        "driver.set_page_load_timeout(60)"
      ],
      "metadata": {
        "id": "RJNZGtOgta-F",
        "colab": {
          "base_uri": "https://localhost:8080/"
        },
        "outputId": "9104eba3-18f8-4eef-8e91-35ba897535c2"
      },
      "execution_count": 114,
      "outputs": [
        {
          "output_type": "stream",
          "name": "stderr",
          "text": [
            "Exception ignored in: <function ZipFile.__del__ at 0x7c8f8274e200>\n",
            "Traceback (most recent call last):\n",
            "  File \"/usr/lib/python3.10/zipfile.py\", line 1821, in __del__\n",
            "    self.close()\n",
            "  File \"/usr/lib/python3.10/zipfile.py\", line 1838, in close\n",
            "    self.fp.seek(self.start_dir)\n",
            "ValueError: seek of closed file\n"
          ]
        }
      ]
    },
    {
      "cell_type": "code",
      "source": [
        "data = \"02/02/2023\"\n",
        "URL_DOL = f\"https://www2.bmf.com.br/pages/portal/bmfbovespa/lumis/lum-sistema-pregao-ptBR.asp?Data={data}&Mercadoria=DOL\"\n",
        "driver.get(URL_DOL)"
      ],
      "metadata": {
        "id": "06pA7oSkosrw"
      },
      "execution_count": 115,
      "outputs": []
    },
    {
      "cell_type": "code",
      "source": [
        "vencimento = driver.find_element(By.ID, \"MercadoFut0\").text\n",
        "vencimento"
      ],
      "metadata": {
        "id": "9eUCtvlnq2-d"
      },
      "execution_count": null,
      "outputs": []
    },
    {
      "cell_type": "code",
      "source": [
        "vencimento = vencimento.split(\"\\n\")\n",
        "vencimento = vencimento[1:]"
      ],
      "metadata": {
        "id": "45jQN9DruNwF"
      },
      "execution_count": null,
      "outputs": []
    },
    {
      "cell_type": "code",
      "source": [
        "vencimento"
      ],
      "metadata": {
        "collapsed": true,
        "id": "-GxtjsZ3ufHs"
      },
      "execution_count": null,
      "outputs": []
    },
    {
      "cell_type": "code",
      "source": [
        "tabela_vencimento = pd.DataFrame(vencimento, columns=[\"VENCTO\"])\n",
        "tabela_vencimento"
      ],
      "metadata": {
        "id": "N1QYCPuiu8s0"
      },
      "execution_count": null,
      "outputs": []
    },
    {
      "cell_type": "code",
      "source": [
        "n_linhas = tabela_vencimento.shape[0]\n",
        "n_linhas"
      ],
      "metadata": {
        "id": "W2jHJbGRvFuS"
      },
      "execution_count": null,
      "outputs": []
    },
    {
      "cell_type": "code",
      "source": [
        "# Captura dos dados do futuro de dólar\n",
        "dados = driver.find_element(By.ID, \"MercadoFut2\").text\n",
        "dados = dados.split()\n",
        "dados[20:]"
      ],
      "metadata": {
        "id": "JcvDWTXS81My"
      },
      "execution_count": null,
      "outputs": []
    },
    {
      "cell_type": "code",
      "source": [
        "\n",
        "dados = dados[19:] #remoção do cabeçalho\n",
        "dados"
      ],
      "metadata": {
        "id": "qZLKrufOvOty"
      },
      "execution_count": null,
      "outputs": []
    },
    {
      "cell_type": "code",
      "source": [
        "dados = np.array_split(dados, n_linhas)\n",
        "dados"
      ],
      "metadata": {
        "collapsed": true,
        "id": "GfmQu1b3vkqa"
      },
      "execution_count": null,
      "outputs": []
    },
    {
      "cell_type": "code",
      "source": [
        "tabela_dados = pd.DataFrame(dados, columns=[\"PREÇO ABERT\", \"PREÇO MÍN.\", \"PREÇO MÁX.\", \"PREÇO MÉD.\", \"ÚLT. PREÇO\", \"AJUSTE\", \"VAR. PTOS.\",\t\"ÚLT. OF. COMPRA\",\t\"ÚLT. OF. VENDA\"])\n",
        "tabela_dados"
      ],
      "metadata": {
        "id": "-YNOAqYGwG5W"
      },
      "execution_count": null,
      "outputs": []
    },
    {
      "cell_type": "code",
      "source": [
        "# Consolidar tudo em uma tabela\n",
        "df_dol = pd.merge(tabela_vencimento, tabela_dados, left_index=True, right_index=True, how=\"inner\")\n",
        "df_dol"
      ],
      "metadata": {
        "id": "gklZl9cyxKhR"
      },
      "execution_count": null,
      "outputs": []
    },
    {
      "cell_type": "code",
      "source": [
        "from datetime import date, timedelta\n",
        "\n",
        "# Definindo o ano para o qual o código será gerado\n",
        "year = 2023\n",
        "\n",
        "# Feriados em 2023\n",
        "holidays = [\n",
        "    \"01/01/2023\", \"20/02/2023\", \"21/02/2023\", \"22/02/2023\", \"07/04/2023\",\n",
        "    \"21/04/2023\", \"01/05/2023\", \"08/06/2023\", \"07/09/2023\", \"12/10/2023\",\n",
        "    \"02/11/2023\", \"15/11/2023\", \"25/12/2023\", \"29/12/2023\"\n",
        "]\n",
        "\n",
        "# Convertendo strings de feriados para objetos date\n",
        "holidays = [date.fromisoformat(f\"{day[-4:]}-{day[3:5]}-{day[0:2]}\") for day in holidays]\n",
        "\n",
        "# Gerar todas as datas do ano, excluindo sábados, domingos e feriados\n",
        "start_date = date(year, 1, 1)\n",
        "end_date = date(year, 12, 31)\n",
        "all_dates = []\n",
        "\n",
        "current_date = start_date\n",
        "while current_date <= end_date:\n",
        "    if current_date.weekday() < 5 and current_date not in holidays:  # 0-4 são dias da semana (Seg-Sex)\n",
        "        all_dates.append(current_date.strftime(\"%d/%m/%Y\"))\n",
        "    current_date += timedelta(days=1)"
      ],
      "metadata": {
        "id": "cp8dX_9Y3PjG"
      },
      "execution_count": 102,
      "outputs": []
    },
    {
      "cell_type": "code",
      "source": [
        "# Criando um objeto ExcelWriter\n",
        "with pd.ExcelWriter('dados_dol_2023_por_dia.xlsx', engine='openpyxl') as writer:\n",
        "    for data in all_dates:\n",
        "        print(data)\n",
        "        URL_DOL = f\"https://www2.bmf.com.br/pages/portal/bmfbovespa/lumis/lum-sistema-pregao-ptBR.asp?Data={data}&Mercadoria=DOL\"\n",
        "        driver.get(URL_DOL)\n",
        "\n",
        "        vencimento = driver.find_element(By.ID, \"MercadoFut0\").text.split(\"\\n\")[1:]\n",
        "        tabela_vencimento = pd.DataFrame(vencimento, columns=[\"VENCTO\"])\n",
        "        n_linhas = tabela_vencimento.shape[0]\n",
        "\n",
        "        dados = driver.find_element(By.ID, \"MercadoFut2\").text.split()[19:]\n",
        "        dados = np.array_split(dados, n_linhas)\n",
        "        tabela_dados = pd.DataFrame(dados, columns=[\"PREÇO ABERT\", \"PREÇO MÍN.\", \"PREÇO MÁX.\", \"PREÇO MÉD.\", \"ÚLT. PREÇO\", \"AJUSTE\", \"VAR. PTOS.\", \"ÚLT. OF. COMPRA\", \"ÚLT. OF. VENDA\"])\n",
        "\n",
        "        df_dol = pd.merge(tabela_vencimento, tabela_dados, left_index=True, right_index=True, how=\"inner\")\n",
        "\n",
        "        # Salvando o DataFrame na aba correspondente à data\n",
        "        df_dol.to_excel(writer, sheet_name=data.replace('/','_'), index=False)\n",
        "\n",
        "driver.quit()\n",
        "\n",
        "print(\"Dados salvos com sucesso em abas separadas por data!\")"
      ],
      "metadata": {
        "colab": {
          "base_uri": "https://localhost:8080/",
          "height": 1000
        },
        "id": "-LCnN8kHEu_m",
        "outputId": "5c709e4f-b02a-4427-da30-96f228058dae"
      },
      "execution_count": 117,
      "outputs": [
        {
          "output_type": "stream",
          "name": "stdout",
          "text": [
            "02/01/2023\n",
            "03/01/2023\n",
            "04/01/2023\n",
            "05/01/2023\n",
            "06/01/2023\n",
            "09/01/2023\n",
            "10/01/2023\n",
            "11/01/2023\n",
            "12/01/2023\n",
            "13/01/2023\n",
            "16/01/2023\n",
            "17/01/2023\n",
            "18/01/2023\n",
            "19/01/2023\n",
            "20/01/2023\n",
            "23/01/2023\n",
            "24/01/2023\n",
            "25/01/2023\n",
            "26/01/2023\n",
            "27/01/2023\n",
            "30/01/2023\n",
            "31/01/2023\n",
            "01/02/2023\n",
            "02/02/2023\n",
            "03/02/2023\n",
            "06/02/2023\n",
            "07/02/2023\n",
            "08/02/2023\n",
            "09/02/2023\n",
            "10/02/2023\n",
            "13/02/2023\n",
            "14/02/2023\n",
            "15/02/2023\n",
            "16/02/2023\n",
            "17/02/2023\n",
            "23/02/2023\n",
            "24/02/2023\n",
            "27/02/2023\n",
            "28/02/2023\n",
            "01/03/2023\n",
            "02/03/2023\n",
            "03/03/2023\n",
            "06/03/2023\n",
            "07/03/2023\n",
            "08/03/2023\n",
            "09/03/2023\n",
            "10/03/2023\n",
            "13/03/2023\n",
            "14/03/2023\n",
            "15/03/2023\n",
            "16/03/2023\n",
            "17/03/2023\n",
            "20/03/2023\n",
            "21/03/2023\n",
            "22/03/2023\n",
            "23/03/2023\n",
            "24/03/2023\n",
            "27/03/2023\n",
            "28/03/2023\n",
            "29/03/2023\n",
            "30/03/2023\n",
            "31/03/2023\n",
            "03/04/2023\n",
            "04/04/2023\n",
            "05/04/2023\n",
            "06/04/2023\n",
            "10/04/2023\n",
            "11/04/2023\n",
            "12/04/2023\n",
            "13/04/2023\n",
            "14/04/2023\n",
            "17/04/2023\n",
            "18/04/2023\n",
            "19/04/2023\n",
            "20/04/2023\n",
            "24/04/2023\n",
            "25/04/2023\n",
            "26/04/2023\n",
            "27/04/2023\n",
            "28/04/2023\n",
            "02/05/2023\n",
            "03/05/2023\n",
            "04/05/2023\n",
            "05/05/2023\n",
            "08/05/2023\n",
            "09/05/2023\n",
            "10/05/2023\n",
            "11/05/2023\n",
            "12/05/2023\n",
            "15/05/2023\n",
            "16/05/2023\n",
            "17/05/2023\n",
            "18/05/2023\n",
            "19/05/2023\n",
            "22/05/2023\n",
            "23/05/2023\n",
            "24/05/2023\n",
            "25/05/2023\n",
            "26/05/2023\n",
            "29/05/2023\n",
            "30/05/2023\n",
            "31/05/2023\n",
            "01/06/2023\n",
            "02/06/2023\n",
            "05/06/2023\n",
            "06/06/2023\n",
            "07/06/2023\n",
            "09/06/2023\n",
            "12/06/2023\n",
            "13/06/2023\n",
            "14/06/2023\n",
            "15/06/2023\n"
          ]
        },
        {
          "output_type": "error",
          "ename": "TimeoutException",
          "evalue": "Message: timeout: Timed out receiving message from renderer: 59.037\n  (Session info: chrome-headless-shell=124.0.6367.201)\nStacktrace:\n#0 0x5bbe37d8ce43 <unknown>\n#1 0x5bbe37a7b4e7 <unknown>\n#2 0x5bbe37a633bd <unknown>\n#3 0x5bbe37a630d3 <unknown>\n#4 0x5bbe37a6105c <unknown>\n#5 0x5bbe37a616ef <unknown>\n#6 0x5bbe37a71c81 <unknown>\n#7 0x5bbe37a8726e <unknown>\n#8 0x5bbe37a8c87b <unknown>\n#9 0x5bbe37a61e32 <unknown>\n#10 0x5bbe37a86fe5 <unknown>\n#11 0x5bbe37b06f83 <unknown>\n#12 0x5bbe37ae81f3 <unknown>\n#13 0x5bbe37ab928a <unknown>\n#14 0x5bbe37ab9c5e <unknown>\n#15 0x5bbe37d5116b <unknown>\n#16 0x5bbe37d550bb <unknown>\n#17 0x5bbe37d3d281 <unknown>\n#18 0x5bbe37d55c22 <unknown>\n#19 0x5bbe37d2213f <unknown>\n#20 0x5bbe37d7bf98 <unknown>\n#21 0x5bbe37d7c170 <unknown>\n#22 0x5bbe37d8bf94 <unknown>\n#23 0x7c4ae6d3fac3 <unknown>\n",
          "traceback": [
            "\u001b[0;31m---------------------------------------------------------------------------\u001b[0m",
            "\u001b[0;31mTimeoutException\u001b[0m                          Traceback (most recent call last)",
            "\u001b[0;32m<ipython-input-117-28c6811fe580>\u001b[0m in \u001b[0;36m<cell line: 2>\u001b[0;34m()\u001b[0m\n\u001b[1;32m      4\u001b[0m         \u001b[0mprint\u001b[0m\u001b[0;34m(\u001b[0m\u001b[0mdata\u001b[0m\u001b[0;34m)\u001b[0m\u001b[0;34m\u001b[0m\u001b[0;34m\u001b[0m\u001b[0m\n\u001b[1;32m      5\u001b[0m         \u001b[0mURL_DOL\u001b[0m \u001b[0;34m=\u001b[0m \u001b[0;34mf\"https://www2.bmf.com.br/pages/portal/bmfbovespa/lumis/lum-sistema-pregao-ptBR.asp?Data={data}&Mercadoria=DOL\"\u001b[0m\u001b[0;34m\u001b[0m\u001b[0;34m\u001b[0m\u001b[0m\n\u001b[0;32m----> 6\u001b[0;31m         \u001b[0mdriver\u001b[0m\u001b[0;34m.\u001b[0m\u001b[0mget\u001b[0m\u001b[0;34m(\u001b[0m\u001b[0mURL_DOL\u001b[0m\u001b[0;34m)\u001b[0m\u001b[0;34m\u001b[0m\u001b[0;34m\u001b[0m\u001b[0m\n\u001b[0m\u001b[1;32m      7\u001b[0m \u001b[0;34m\u001b[0m\u001b[0m\n\u001b[1;32m      8\u001b[0m         \u001b[0mvencimento\u001b[0m \u001b[0;34m=\u001b[0m \u001b[0mdriver\u001b[0m\u001b[0;34m.\u001b[0m\u001b[0mfind_element\u001b[0m\u001b[0;34m(\u001b[0m\u001b[0mBy\u001b[0m\u001b[0;34m.\u001b[0m\u001b[0mID\u001b[0m\u001b[0;34m,\u001b[0m \u001b[0;34m\"MercadoFut0\"\u001b[0m\u001b[0;34m)\u001b[0m\u001b[0;34m.\u001b[0m\u001b[0mtext\u001b[0m\u001b[0;34m.\u001b[0m\u001b[0msplit\u001b[0m\u001b[0;34m(\u001b[0m\u001b[0;34m\"\\n\"\u001b[0m\u001b[0;34m)\u001b[0m\u001b[0;34m[\u001b[0m\u001b[0;36m1\u001b[0m\u001b[0;34m:\u001b[0m\u001b[0;34m]\u001b[0m\u001b[0;34m\u001b[0m\u001b[0;34m\u001b[0m\u001b[0m\n",
            "\u001b[0;32m/usr/local/lib/python3.10/dist-packages/selenium/webdriver/remote/webdriver.py\u001b[0m in \u001b[0;36mget\u001b[0;34m(self, url)\u001b[0m\n\u001b[1;32m    354\u001b[0m     \u001b[0;32mdef\u001b[0m \u001b[0mget\u001b[0m\u001b[0;34m(\u001b[0m\u001b[0mself\u001b[0m\u001b[0;34m,\u001b[0m \u001b[0murl\u001b[0m\u001b[0;34m:\u001b[0m \u001b[0mstr\u001b[0m\u001b[0;34m)\u001b[0m \u001b[0;34m->\u001b[0m \u001b[0;32mNone\u001b[0m\u001b[0;34m:\u001b[0m\u001b[0;34m\u001b[0m\u001b[0;34m\u001b[0m\u001b[0m\n\u001b[1;32m    355\u001b[0m         \u001b[0;34m\"\"\"Loads a web page in the current browser session.\"\"\"\u001b[0m\u001b[0;34m\u001b[0m\u001b[0;34m\u001b[0m\u001b[0m\n\u001b[0;32m--> 356\u001b[0;31m         \u001b[0mself\u001b[0m\u001b[0;34m.\u001b[0m\u001b[0mexecute\u001b[0m\u001b[0;34m(\u001b[0m\u001b[0mCommand\u001b[0m\u001b[0;34m.\u001b[0m\u001b[0mGET\u001b[0m\u001b[0;34m,\u001b[0m \u001b[0;34m{\u001b[0m\u001b[0;34m\"url\"\u001b[0m\u001b[0;34m:\u001b[0m \u001b[0murl\u001b[0m\u001b[0;34m}\u001b[0m\u001b[0;34m)\u001b[0m\u001b[0;34m\u001b[0m\u001b[0;34m\u001b[0m\u001b[0m\n\u001b[0m\u001b[1;32m    357\u001b[0m \u001b[0;34m\u001b[0m\u001b[0m\n\u001b[1;32m    358\u001b[0m     \u001b[0;34m@\u001b[0m\u001b[0mproperty\u001b[0m\u001b[0;34m\u001b[0m\u001b[0;34m\u001b[0m\u001b[0m\n",
            "\u001b[0;32m/usr/local/lib/python3.10/dist-packages/selenium/webdriver/remote/webdriver.py\u001b[0m in \u001b[0;36mexecute\u001b[0;34m(self, driver_command, params)\u001b[0m\n\u001b[1;32m    345\u001b[0m         \u001b[0mresponse\u001b[0m \u001b[0;34m=\u001b[0m \u001b[0mself\u001b[0m\u001b[0;34m.\u001b[0m\u001b[0mcommand_executor\u001b[0m\u001b[0;34m.\u001b[0m\u001b[0mexecute\u001b[0m\u001b[0;34m(\u001b[0m\u001b[0mdriver_command\u001b[0m\u001b[0;34m,\u001b[0m \u001b[0mparams\u001b[0m\u001b[0;34m)\u001b[0m\u001b[0;34m\u001b[0m\u001b[0;34m\u001b[0m\u001b[0m\n\u001b[1;32m    346\u001b[0m         \u001b[0;32mif\u001b[0m \u001b[0mresponse\u001b[0m\u001b[0;34m:\u001b[0m\u001b[0;34m\u001b[0m\u001b[0;34m\u001b[0m\u001b[0m\n\u001b[0;32m--> 347\u001b[0;31m             \u001b[0mself\u001b[0m\u001b[0;34m.\u001b[0m\u001b[0merror_handler\u001b[0m\u001b[0;34m.\u001b[0m\u001b[0mcheck_response\u001b[0m\u001b[0;34m(\u001b[0m\u001b[0mresponse\u001b[0m\u001b[0;34m)\u001b[0m\u001b[0;34m\u001b[0m\u001b[0;34m\u001b[0m\u001b[0m\n\u001b[0m\u001b[1;32m    348\u001b[0m             \u001b[0mresponse\u001b[0m\u001b[0;34m[\u001b[0m\u001b[0;34m\"value\"\u001b[0m\u001b[0;34m]\u001b[0m \u001b[0;34m=\u001b[0m \u001b[0mself\u001b[0m\u001b[0;34m.\u001b[0m\u001b[0m_unwrap_value\u001b[0m\u001b[0;34m(\u001b[0m\u001b[0mresponse\u001b[0m\u001b[0;34m.\u001b[0m\u001b[0mget\u001b[0m\u001b[0;34m(\u001b[0m\u001b[0;34m\"value\"\u001b[0m\u001b[0;34m,\u001b[0m \u001b[0;32mNone\u001b[0m\u001b[0;34m)\u001b[0m\u001b[0;34m)\u001b[0m\u001b[0;34m\u001b[0m\u001b[0;34m\u001b[0m\u001b[0m\n\u001b[1;32m    349\u001b[0m             \u001b[0;32mreturn\u001b[0m \u001b[0mresponse\u001b[0m\u001b[0;34m\u001b[0m\u001b[0;34m\u001b[0m\u001b[0m\n",
            "\u001b[0;32m/usr/local/lib/python3.10/dist-packages/selenium/webdriver/remote/errorhandler.py\u001b[0m in \u001b[0;36mcheck_response\u001b[0;34m(self, response)\u001b[0m\n\u001b[1;32m    227\u001b[0m                 \u001b[0malert_text\u001b[0m \u001b[0;34m=\u001b[0m \u001b[0mvalue\u001b[0m\u001b[0;34m[\u001b[0m\u001b[0;34m\"alert\"\u001b[0m\u001b[0;34m]\u001b[0m\u001b[0;34m.\u001b[0m\u001b[0mget\u001b[0m\u001b[0;34m(\u001b[0m\u001b[0;34m\"text\"\u001b[0m\u001b[0;34m)\u001b[0m\u001b[0;34m\u001b[0m\u001b[0;34m\u001b[0m\u001b[0m\n\u001b[1;32m    228\u001b[0m             \u001b[0;32mraise\u001b[0m \u001b[0mexception_class\u001b[0m\u001b[0;34m(\u001b[0m\u001b[0mmessage\u001b[0m\u001b[0;34m,\u001b[0m \u001b[0mscreen\u001b[0m\u001b[0;34m,\u001b[0m \u001b[0mstacktrace\u001b[0m\u001b[0;34m,\u001b[0m \u001b[0malert_text\u001b[0m\u001b[0;34m)\u001b[0m  \u001b[0;31m# type: ignore[call-arg]  # mypy is not smart enough here\u001b[0m\u001b[0;34m\u001b[0m\u001b[0;34m\u001b[0m\u001b[0m\n\u001b[0;32m--> 229\u001b[0;31m         \u001b[0;32mraise\u001b[0m \u001b[0mexception_class\u001b[0m\u001b[0;34m(\u001b[0m\u001b[0mmessage\u001b[0m\u001b[0;34m,\u001b[0m \u001b[0mscreen\u001b[0m\u001b[0;34m,\u001b[0m \u001b[0mstacktrace\u001b[0m\u001b[0;34m)\u001b[0m\u001b[0;34m\u001b[0m\u001b[0;34m\u001b[0m\u001b[0m\n\u001b[0m",
            "\u001b[0;31mTimeoutException\u001b[0m: Message: timeout: Timed out receiving message from renderer: 59.037\n  (Session info: chrome-headless-shell=124.0.6367.201)\nStacktrace:\n#0 0x5bbe37d8ce43 <unknown>\n#1 0x5bbe37a7b4e7 <unknown>\n#2 0x5bbe37a633bd <unknown>\n#3 0x5bbe37a630d3 <unknown>\n#4 0x5bbe37a6105c <unknown>\n#5 0x5bbe37a616ef <unknown>\n#6 0x5bbe37a71c81 <unknown>\n#7 0x5bbe37a8726e <unknown>\n#8 0x5bbe37a8c87b <unknown>\n#9 0x5bbe37a61e32 <unknown>\n#10 0x5bbe37a86fe5 <unknown>\n#11 0x5bbe37b06f83 <unknown>\n#12 0x5bbe37ae81f3 <unknown>\n#13 0x5bbe37ab928a <unknown>\n#14 0x5bbe37ab9c5e <unknown>\n#15 0x5bbe37d5116b <unknown>\n#16 0x5bbe37d550bb <unknown>\n#17 0x5bbe37d3d281 <unknown>\n#18 0x5bbe37d55c22 <unknown>\n#19 0x5bbe37d2213f <unknown>\n#20 0x5bbe37d7bf98 <unknown>\n#21 0x5bbe37d7c170 <unknown>\n#22 0x5bbe37d8bf94 <unknown>\n#23 0x7c4ae6d3fac3 <unknown>\n"
          ]
        }
      ]
    },
    {
      "cell_type": "code",
      "source": [],
      "metadata": {
        "id": "61wkR14_ODG6"
      },
      "execution_count": null,
      "outputs": []
    }
  ]
}